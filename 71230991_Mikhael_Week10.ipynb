{
 "cells": [
  {
   "cell_type": "code",
   "execution_count": 1,
   "metadata": {},
   "outputs": [
    {
     "name": "stdout",
     "output_type": "stream",
     "text": [
      "3 nilai terbaik dalam list :  [80, 65, 55]\n"
     ]
    }
   ],
   "source": [
    "nilai_Mahasiswa = [15, 40, 35, 20, 65, 80, 45, 55, 30]\n",
    "pengurutan_nilai = sorted(nilai_Mahasiswa, reverse = True)\n",
    "nilai_terbaik = pengurutan_nilai[:3]\n",
    "print(\"3 nilai terbaik dalam list : \", nilai_terbaik)"
   ]
  },
  {
   "cell_type": "code",
   "execution_count": 3,
   "metadata": {},
   "outputs": [
    {
     "name": "stdout",
     "output_type": "stream",
     "text": [
      "angka :   [12.0]\n",
      "nilai maksimum :  12.0\n",
      "nilai minimum :   12.0\n",
      "angka :   [12.0, 4312.0]\n",
      "nilai maksimum :  4312.0\n",
      "nilai minimum :   12.0\n",
      "angka :   [12.0, 4312.0, 53.0]\n",
      "nilai maksimum :  4312.0\n",
      "nilai minimum :   12.0\n",
      "angka :   [12.0, 4312.0, 53.0, 31.0]\n",
      "nilai maksimum :  4312.0\n",
      "nilai minimum :   12.0\n",
      "angka :   [12.0, 4312.0, 53.0, 31.0, 31234.0]\n",
      "nilai maksimum :  31234.0\n",
      "nilai minimum :   12.0\n",
      "angka :   [12.0, 4312.0, 53.0, 31.0, 31234.0, 53.0]\n",
      "nilai maksimum :  31234.0\n",
      "nilai minimum :   12.0\n",
      "angka :   [12.0, 4312.0, 53.0, 31.0, 31234.0, 53.0, 54.0]\n",
      "nilai maksimum :  31234.0\n",
      "nilai minimum :   12.0\n",
      "angka :   [12.0, 4312.0, 53.0, 31.0, 31234.0, 53.0, 54.0, 6.0]\n",
      "nilai maksimum :  31234.0\n",
      "nilai minimum :   6.0\n",
      "Selesai\n"
     ]
    }
   ],
   "source": [
    "angka = []\n",
    "while True:\n",
    "    input_angka = input(\"Masukkan angka (ketik 'done' setelah selesai): \")\n",
    "    if input_angka.lower() == \"done\":\n",
    "        print(\"Selesai\")\n",
    "        break\n",
    "    try:\n",
    "        input2 = float(input_angka)\n",
    "        angka.append(input2)\n",
    "    except ValueError:\n",
    "        print(\"Input tidak valid! masukkan angka lagi atau ketik 'done' setelah selesai!\")\n",
    "    \n",
    "    if angka:\n",
    "        nilai_maksimum = max(angka)\n",
    "        nilai_minimum = min(angka)\n",
    "        print(\"angka :  \", angka)\n",
    "        print(\"nilai maksimum : \", nilai_maksimum)\n",
    "        print(\"nilai minimum :  \", nilai_minimum)\n",
    "    else:\n",
    "        print(\"Tidak terdeteksi angka\")"
   ]
  },
  {
   "cell_type": "code",
   "execution_count": 4,
   "metadata": {},
   "outputs": [
    {
     "name": "stdout",
     "output_type": "stream",
     "text": [
      "=======ISI BERITA========\n",
      "Lily was born and raised in Victoria, Australia. Her father is Australian (Bruce Marrow) and her mother is Korean (Park Jin-hee). She was a child model and actress. She speaks both English and Korean, but also can speak basic Japanese. Lily signed to JYP Entertainment on May 4, 2015. Both JYP Entertainment and YG Entertainment scouted her, but she chose the former. Lily become trainee for about 6 years, 6 months. She formerly went by the stage name Lily M. Lily appeared on all 6 JYP trainee showcases.\n",
      "\n",
      "========Kata Unik pada Berita=======\n",
      "['Lily', 'was', 'born', 'and', 'raised', 'in', 'Victoria,', 'Australia.', 'Her', 'father', 'is', 'Australian', '(Bruce', 'Marrow)', 'and', 'her', 'mother', 'is', 'Korean', '(Park', 'Jin-hee).', 'She', 'was', 'a', 'child', 'model', 'and', 'actress.', 'She', 'speaks', 'both', 'English', 'and', 'Korean,', 'but', 'also', 'can', 'speak', 'basic', 'Japanese.', 'Lily', 'signed', 'to', 'JYP', 'Entertainment', 'on', 'May', '4,', '2015.', 'Both', 'JYP', 'Entertainment', 'and', 'YG', 'Entertainment', 'scouted', 'her,', 'but', 'she', 'chose', 'the', 'former.', 'Lily', 'become', 'trainee', 'for', 'about', '6', 'years,', '6', 'months.', 'She', 'formerly', 'went', 'by', 'the', 'stage', 'name', 'Lily', 'M.', 'Lily', 'appeared', 'on', 'all', '6', 'JYP', 'trainee', 'showcases.']\n"
     ]
    }
   ],
   "source": [
    "def lily(file):\n",
    "    kata_unik = []\n",
    "    try:\n",
    "        with open(file, 'r') as open_file:\n",
    "            isi_file = open_file.read()\n",
    "            print (\"=======ISI BERITA========\")\n",
    "            print(isi_file)\n",
    "        with open(file, 'r') as open_file:\n",
    "            for i in open_file:\n",
    "                kata = i.strip().split()\n",
    "                kata_unik.append(kata)\n",
    "    except FileNotFoundError:\n",
    "        print(\"File tidak terdeteksi\")\n",
    "    return kata_unik\n",
    "\n",
    "def main():\n",
    "    file = \"fileBintang.txt\"\n",
    "    kata_unik = lily(file)\n",
    "    print(\"========Kata Unik pada Berita=======\")\n",
    "    for j in kata_unik:\n",
    "        print(j)\n",
    "\n",
    "if __name__ == '__main__':\n",
    "    main()"
   ]
  }
 ],
 "metadata": {
  "kernelspec": {
   "display_name": "Python 3",
   "language": "python",
   "name": "python3"
  },
  "language_info": {
   "codemirror_mode": {
    "name": "ipython",
    "version": 3
   },
   "file_extension": ".py",
   "mimetype": "text/x-python",
   "name": "python",
   "nbconvert_exporter": "python",
   "pygments_lexer": "ipython3",
   "version": "3.12.1"
  }
 },
 "nbformat": 4,
 "nbformat_minor": 2
}
